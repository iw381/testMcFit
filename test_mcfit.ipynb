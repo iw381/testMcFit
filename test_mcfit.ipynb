{
 "cells": [
  {
   "cell_type": "code",
   "execution_count": null,
   "metadata": {},
   "outputs": [],
   "source": [
    "import numpy as np\n",
    "import matplotlib as mpl\n",
    "import matplotlib.pyplot as plt\n",
    "import astropy.units as u\n",
    "from astropy.cosmology import Planck15\n",
    "import matplotlib.colors as colors\n",
    "from scipy.optimize import curve_fit\n",
    "import scipy.integrate as integrate\n",
    "import numpy.random\n",
    "from numpy.linalg import det\n",
    "from mpl_toolkits import mplot3d\n",
    "import matplotlib.ticker as ticker\n",
    "\n",
    "\n",
    "\n",
    "plt.rc('font', family='serif')\n",
    "mpl.rcParams['ytick.labelsize'] = 24\n",
    "mpl.rcParams['xtick.labelsize'] = 24\n",
    "mpl.rcParams['axes.labelsize'] = 34\n",
    "mpl.rcParams['legend.fontsize'] = 24\n",
    "def fmt(x, pos):\n",
    "    a, b = '{:.1e}'.format(x).split('e')\n",
    "    b = int(b)\n",
    "    return r'${}\\!\\times 10^{{{}}}$'.format(a, b)\n",
    "\n"
   ]
  },
  {
   "cell_type": "code",
   "execution_count": null,
   "metadata": {},
   "outputs": [],
   "source": [
    "from mcfit import P2xi\n",
    "k, P = numpy.loadtxt('P.txt', unpack=True)\n",
    "r, xi = P2xi(k)(P)"
   ]
  }
 ],
 "metadata": {
  "kernelspec": {
   "display_name": "Python 3",
   "language": "python",
   "name": "python3"
  },
  "language_info": {
   "codemirror_mode": {
    "name": "ipython",
    "version": 3
   },
   "file_extension": ".py",
   "mimetype": "text/x-python",
   "name": "python",
   "nbconvert_exporter": "python",
   "pygments_lexer": "ipython3",
   "version": "3.8.5"
  }
 },
 "nbformat": 4,
 "nbformat_minor": 4
}
